{
 "cells": [
  {
   "cell_type": "markdown",
   "id": "45aa33d0-e251-4abc-b0ce-602c537a6591",
   "metadata": {
    "tags": []
   },
   "source": [
    "### Data Science vs. Business Intelligence / Data Analytics \n",
    "\n",
    "* Data analytics/BI focuses on understanding datasets and extracting insights for actionable decisions.\n",
    "* Data science involves building, cleaning, and organizing datasets, and creating predictive models.\n",
    "* Data analysts have a more narrow and specialized role, while data scientists ask broader, strategic questions.\n",
    "*  BI is focused on extracting actionable insights from data and presenting those to stakeholders\n"
   ]
  },
  {
   "cell_type": "code",
   "execution_count": null,
   "id": "d3fd5f78-d552-4524-9323-31e38ef21cce",
   "metadata": {
    "tags": []
   },
   "outputs": [],
   "source": [
    "# install geopandas and geoplot:\n",
    "# conda install geopandas\n",
    "# conda install -c conda-forge geoplot\n",
    "import geopandas\n",
    "import geoplot\n",
    "import pandas as pd\n",
    "import numpy as np\n",
    "from shapely.geometry import Point, Polygon\n",
    "import matplotlib.pyplot as plt\n"
   ]
  },
  {
   "cell_type": "code",
   "execution_count": null,
   "id": "0dd6a875-68b5-41b0-bcb2-4c2508c251f0",
   "metadata": {},
   "outputs": [],
   "source": [
    "# Import listings\n",
    "df=pd.read_csv('data/listings.csv')"
   ]
  },
  {
   "cell_type": "markdown",
   "id": "37bc98c6-73ad-49b3-b3ef-32c5092b6d50",
   "metadata": {},
   "source": [
    "# Basic Analytics"
   ]
  },
  {
   "cell_type": "markdown",
   "id": "6a353168-ff40-4811-a1fe-0879ce18d429",
   "metadata": {},
   "source": [
    "### Basic Inference\n",
    "\n",
    "1. What do mean, standard deviation and standard deviation of the mean, ... mean(?)"
   ]
  },
  {
   "cell_type": "markdown",
   "id": "a3c8bdcb-a31e-4782-b4b7-f26f6b568844",
   "metadata": {},
   "source": [
    "#### Types of Mean\n",
    "1.  arithmetic:  $\\overline{a}_{\\mathrm{ar}} = { \\sum_{i=1}^{N} a_i \\over N }$\n",
    "2.  geometric:  $\\overline{a}_{\\mathrm{geo}} = \\left( { \\prod_{i=1}^{N} a_i  }\\right)^{1 \\over N}$ \n",
    "3.  harmonic:  $ { 1\\over \\overline{a}_{\\mathrm{har}} } =  { \\sum_{i=1}^{N} { 1 \\over a_i} \\over N } $   "
   ]
  },
  {
   "cell_type": "code",
   "execution_count": null,
   "id": "80120c1d-3b30-4f65-b548-dd3afc7cde88",
   "metadata": {
    "tags": []
   },
   "outputs": [],
   "source": [
    "# Standard deviation of the mean \n",
    "# If we take an N sized sample, what will it look like?\n",
    "\n",
    "# this generates a sample of normal data to serve as out population\n",
    "mu, sigma = 0, 1 # mean and standard deviation\n",
    "sample = np.random.normal(mu, sigma, 10000)\n",
    "plt.hist(sample)"
   ]
  },
  {
   "cell_type": "code",
   "execution_count": null,
   "id": "954b40c4-1b05-4651-a173-9745605bcddb",
   "metadata": {
    "tags": []
   },
   "outputs": [],
   "source": [
    "# repeatedly sample\n",
    "sqrt_N = 10\n",
    "N = sqrt_N*sqrt_N\n",
    "mean_list = []\n",
    "stdev_list = []\n",
    "for i in range(1,100000):\n",
    "    sample = np.random.normal(mu, sigma, N)\n",
    "    mean_list.append(sample.mean())\n",
    "    stdev_list.append(sample.std())\n"
   ]
  },
  {
   "cell_type": "markdown",
   "id": "dc8497ea-6217-425a-853e-32ea6170c8d9",
   "metadata": {},
   "source": [
    "#### sample statistics\n",
    "\n",
    "* mean of the sample mean\n",
    "$$\n",
    "\\mu_\\mathrm{sm} \\approx \\mu_\\mathrm{pop}\n",
    "$$\n",
    "* std of the mean:\n",
    "$$\n",
    "\\sigma_\\mathrm{sm}  \\approx { \\sigma_\\mathrm{pop} \\over \\sqrt{N} } \n",
    "$$"
   ]
  },
  {
   "cell_type": "code",
   "execution_count": null,
   "id": "f40b71e0-17d4-400b-9cc7-191853f15801",
   "metadata": {
    "tags": []
   },
   "outputs": [],
   "source": [
    "np.mean(mean_list), np.std(mean_list) , 1/np.std(mean_list)"
   ]
  },
  {
   "cell_type": "markdown",
   "id": "dc0f9a13-c653-4c47-a4b0-1cfa69bdd722",
   "metadata": {},
   "source": [
    "# Tableau Prep"
   ]
  },
  {
   "cell_type": "markdown",
   "id": "4fd60ca8-3498-4553-92ac-7b4c589aef10",
   "metadata": {},
   "source": [
    "### AirBnB Buroughs Map"
   ]
  },
  {
   "cell_type": "code",
   "execution_count": null,
   "id": "8ce2c719-59d6-4dc0-b57f-aacb9b43fbc3",
   "metadata": {},
   "outputs": [],
   "source": [
    "#  We are going to make a map of all of the AirBNB properties. Later we do this in Tableau\n",
    "\n",
    "cols_to_keep=['longitude','latitude']\n",
    "\n",
    "crs={'init':'epsg:4326'}\n",
    "\n",
    "boroughs = geopandas.read_file(geoplot.datasets.get_path('nyc_boroughs'))\n",
    "geom = geopandas.points_from_xy(df[\"longitude\"], df[\"latitude\"])\n",
    "geo_df=geopandas.GeoDataFrame(df, crs=crs,geometry=geom)\n",
    "\n",
    "fig,ax=plt.subplots(figsize=(9,9))\n",
    "fig.suptitle('Map of Listings, Colored by Borough', fontsize=20)\n",
    "boroughs.plot(ax=ax,alpha=0.4,color=\"grey\")\n",
    "geo_df[geo_df['neighbourhood_group']==\"Bronx\"].plot(ax=ax,markersize=4, alpha=0.4,color=\"blue\", label=\"Bronx\")\n",
    "geo_df[geo_df['neighbourhood_group']==\"Manhattan\"].plot(ax=ax,markersize=4, alpha=0.4,color=\"red\", label=\"Manhattan\")\n",
    "geo_df[geo_df['neighbourhood_group']==\"Queens\"].plot(ax=ax,markersize=4, alpha=0.4,color=\"aqua\", label=\"Queens\")\n",
    "geo_df[geo_df['neighbourhood_group']==\"Brooklyn\"].plot(ax=ax,markersize=4, alpha=0.4,color=\"orange\", label=\"Brooklyn\")\n",
    "geo_df[geo_df['neighbourhood_group']==\"Staten Island\"].plot(ax=ax,markersize=4, alpha=0.4,color=\"green\", label=\"Staten Island\")\n",
    "plt.legend()\n"
   ]
  },
  {
   "cell_type": "markdown",
   "id": "a4a3eba7-0f53-4e32-a3e0-3369660e6266",
   "metadata": {},
   "source": [
    "### Histograms\n"
   ]
  },
  {
   "cell_type": "code",
   "execution_count": null,
   "id": "bd76cf21-8dae-4d83-aeb1-16f2b3368a56",
   "metadata": {
    "tags": []
   },
   "outputs": [],
   "source": [
    "# Now we make a set of price histograms\n",
    "\n",
    "import matplotlib.pyplot as plt\n",
    "import numpy as np\n",
    "\n",
    "from matplotlib import colors\n",
    "from matplotlib.ticker import PercentFormatter\n",
    "\n",
    "n_bins = 20\n",
    "\n",
    "# price data to make histograms with\n",
    "\n",
    "price_filter = df['price']<=500\n",
    "\n",
    "neighborhood_filter = df['neighbourhood_group']==\"Bronx\"\n",
    "bronx = df[neighborhood_filter & price_filter].price\n",
    "\n",
    "neighborhood_filter = df['neighbourhood_group']==\"Brooklyn\"\n",
    "brooklyn = df[neighborhood_filter & price_filter].price\n",
    "\n",
    "neighborhood_filter = df['neighbourhood_group']==\"Manhattan\"\n",
    "manhattan = df[neighborhood_filter & price_filter].price\n",
    "\n",
    "neighborhood_filter = df['neighbourhood_group']==\"Queens\"\n",
    "queens = df[neighborhood_filter & price_filter].price\n",
    "\n",
    "neighborhood_filter = df['neighbourhood_group']==\"Staten Island\"\n",
    "staten = df[neighborhood_filter & price_filter].price\n",
    "\n",
    "fig, axs = plt.subplots(5, 1, sharey=True, tight_layout=True)\n",
    "\n",
    "# sefault figsize is  6.4 X 4.8 inches.  we need someting taller\n",
    "fig.set_size_inches(8, 12.0)\n",
    "\n",
    "fig.suptitle('Price Histogram by Borough', fontsize=20)\n",
    "# We can set the number of bins with the *bins* keyword argument.\n",
    "axs[0].hist(bronx, bins=n_bins, color = 'blue')\n",
    "axs[1].hist(brooklyn, bins=n_bins, color = 'orange')\n",
    "axs[2].hist(manhattan, bins=n_bins, color = 'red')\n",
    "axs[3].hist(queens, bins=n_bins, color = 'aqua')\n",
    "axs[4].hist(staten, bins=n_bins, color = 'green')\n",
    "handles, labels = ax.get_legend_handles_labels()\n",
    "fig.legend(handles, labels, loc='upper right')\n"
   ]
  },
  {
   "cell_type": "markdown",
   "id": "1a21b8de-f8c8-4bbc-b6b2-1e4e47f77002",
   "metadata": {},
   "source": [
    "### Box and Whisker"
   ]
  },
  {
   "cell_type": "code",
   "execution_count": null,
   "id": "5d66a98a-97be-460e-9ec1-5512f1d74f00",
   "metadata": {
    "tags": []
   },
   "outputs": [],
   "source": [
    "# Finally we make some \"Box and Whisker\"  Plots, using IQR for the boxes and whiskers\n",
    "\n",
    "price_filter = (df['price']<=10000) &  (df['price']>=1)\n",
    "\n",
    "neighborhood_filter = df['neighbourhood_group']==\"Bronx\"\n",
    "bronx = df[neighborhood_filter & price_filter].price\n",
    "\n",
    "neighborhood_filter = df['neighbourhood_group']==\"Brooklyn\"\n",
    "brooklyn = df[neighborhood_filter & price_filter].price\n",
    "\n",
    "neighborhood_filter = df['neighbourhood_group']==\"Manhattan\"\n",
    "manhattan = df[neighborhood_filter & price_filter].price\n",
    "\n",
    "neighborhood_filter = df['neighbourhood_group']==\"Queens\"\n",
    "queens = df[neighborhood_filter & price_filter].price\n",
    "\n",
    "neighborhood_filter = df['neighbourhood_group']==\"Staten Island\"\n",
    "staten = df[neighborhood_filter & price_filter].price\n",
    "\n",
    "box_weights = [bronx,brooklyn, manhattan, queens, staten]\n",
    "labels = ['Bronx','Brooklyn', 'Manhattan', 'Queens', 'Staten Island']\n",
    "colors = ['blue', 'orange', 'red', 'aqua', 'green']\n",
    "fig, ax = plt.subplots()\n",
    "\n",
    "fig.set_size_inches(5, 7.0)\n",
    "\n",
    "fig.suptitle('Box and Whisker', fontsize=20)\n",
    "ax.set_ylabel('price')\n",
    "ax.set_yscale('log')\n",
    "bplot = ax.boxplot(box_weights,\n",
    "                   patch_artist=True)  # will be used to label x-ticks\n",
    "ax.set_xticklabels(labels) \n",
    "for patch, color in zip(bplot['boxes'], colors):\n",
    "    patch.set_facecolor(color)\n"
   ]
  },
  {
   "cell_type": "code",
   "execution_count": null,
   "id": "9ad3fc6f-4c46-4402-98cd-3202cbfdd0be",
   "metadata": {},
   "outputs": [],
   "source": [
    "# in tableau, be sure to copy price and disaggregate it to match this plot"
   ]
  }
 ],
 "metadata": {
  "kernelspec": {
   "display_name": "Python 3 (ipykernel)",
   "language": "python",
   "name": "python3"
  },
  "language_info": {
   "codemirror_mode": {
    "name": "ipython",
    "version": 3
   },
   "file_extension": ".py",
   "mimetype": "text/x-python",
   "name": "python",
   "nbconvert_exporter": "python",
   "pygments_lexer": "ipython3",
   "version": "3.11.5"
  }
 },
 "nbformat": 4,
 "nbformat_minor": 5
}
