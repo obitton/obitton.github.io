{
 "cells": [
  {
   "cell_type": "code",
   "execution_count": 2,
   "id": "68f81be7-a9c8-4794-98d9-70e4de489d20",
   "metadata": {
    "tags": []
   },
   "outputs": [],
   "source": [
    "import seaborn as sns\n",
    "import pandas as pd\n",
    "import numpy as np\n",
    "import sklearn\n",
    "import sklearn.datasets\n",
    "from sklearn.metrics import accuracy_score\n",
    "import warnings\n",
    "\n",
    "warnings.simplefilter(action=\"ignore\", category=FutureWarning)\n",
    "warnings.simplefilter(action=\"ignore\", category=DeprecationWarning)\n",
    "warnings.simplefilter(action=\"ignore\", category=UserWarning)"
   ]
  },
  {
   "cell_type": "markdown",
   "id": "136b5233-8467-4b8c-8aac-79c7c253fa20",
   "metadata": {},
   "source": [
    "# The Iris Dataset"
   ]
  },
  {
   "cell_type": "code",
   "execution_count": null,
   "id": "47eb2dbd-ed34-491c-b735-fefc2437fa20",
   "metadata": {
    "tags": []
   },
   "outputs": [],
   "source": [
    "df = pd.read_csv('data/iris.csv')\n",
    "df.head()"
   ]
  },
  {
   "cell_type": "code",
   "execution_count": null,
   "id": "6f292354",
   "metadata": {},
   "outputs": [],
   "source": [
    "df['class'].value_counts()"
   ]
  },
  {
   "cell_type": "code",
   "execution_count": null,
   "id": "b2a51995-9044-44d5-9de6-5018f1d59512",
   "metadata": {
    "tags": []
   },
   "outputs": [],
   "source": [
    "#  We can use pairplot to plot scatterplots of everything with everything else.  We put hisograms on the diagonal\n",
    "sns.pairplot(df, hue='class')"
   ]
  },
  {
   "cell_type": "code",
   "execution_count": null,
   "id": "7d74f211-5cde-4aad-a398-a70763b302a3",
   "metadata": {
    "tags": []
   },
   "outputs": [],
   "source": []
  },
  {
   "cell_type": "markdown",
   "id": "80e9dd5e-99d1-489c-a67f-301bcf817971",
   "metadata": {},
   "source": [
    "## K-Means"
   ]
  },
  {
   "cell_type": "code",
   "execution_count": 6,
   "id": "4faf749c-ae53-471b-860a-40e3e99fac2f",
   "metadata": {
    "tags": []
   },
   "outputs": [],
   "source": [
    "from sklearn.cluster import KMeans\n",
    "from scipy.cluster.hierarchy import dendrogram, linkage\n",
    "from sklearn.cluster import AgglomerativeClustering\n",
    "kmeans = KMeans(n_clusters=3,random_state=0)\n",
    "\n",
    "df.head()\n",
    "print(df.columns)"
   ]
  },
  {
   "cell_type": "code",
   "execution_count": 7,
   "id": "e037f1a1-38f6-44ab-8adb-11f67c491311",
   "metadata": {
    "tags": []
   },
   "outputs": [],
   "source": [
    "features = ['sepal_length', 'sepal_width', 'petal_length', 'petal_width',]\n",
    "df['cluster'] = kmeans.fit_predict(df[features])\n"
   ]
  },
  {
   "cell_type": "code",
   "execution_count": 8,
   "id": "2e7e013f-74e6-4479-a701-af6df2f7ec0a",
   "metadata": {
    "tags": []
   },
   "outputs": [],
   "source": []
  },
  {
   "cell_type": "code",
   "execution_count": 9,
   "id": "bdd270be-f51b-4ee6-980b-f335fa947eaa",
   "metadata": {
    "tags": []
   },
   "outputs": [],
   "source": []
  },
  {
   "cell_type": "code",
   "execution_count": null,
   "id": "067ec3e7",
   "metadata": {},
   "outputs": [],
   "source": []
  },
  {
   "cell_type": "markdown",
   "id": "8fe742bd",
   "metadata": {},
   "source": [
    "# Now we have clusters, lets see if they correspond to any of the know groups/classes/labels. "
   ]
  },
  {
   "cell_type": "code",
   "execution_count": null,
   "id": "f928ef2f-0cf1-4cd0-86b6-fc6de2cce673",
   "metadata": {
    "tags": []
   },
   "outputs": [],
   "source": [
    "import matplotlib.pyplot as plt\n",
    "\n",
    "fig, axes = plt.subplots(nrows=1, ncols=2, figsize=(15, 5))\n",
    "axes[0].set_title('Y-True')\n",
    "sns.histplot(df, x='petal_width', hue='class', kde=True, ax=axes[0])\n",
    "\n",
    "axes[1].set_title('Y-Predicted')\n",
    "sns.histplot(df, x='petal_width', hue='cluster', kde=True, ax=axes[1])\n",
    "\n"
   ]
  },
  {
   "cell_type": "code",
   "execution_count": null,
   "id": "59ac8d99",
   "metadata": {},
   "outputs": [],
   "source": [
    "cluster_to_class_map = {\n",
    "    1: 'Iris-setosa',\n",
    "    0: 'Iris-versicolor',\n",
    "    2: 'Iris-virginica'\n",
    "}\n",
    "\n",
    "df['y_pred_label'] = df.cluster.map(cluster_to_class_map)\n",
    "df.head()"
   ]
  },
  {
   "cell_type": "code",
   "execution_count": null,
   "id": "ca9c14d9",
   "metadata": {},
   "outputs": [],
   "source": [
    "y_true = df['class']\n",
    "y_pred = df['y_pred_label']\n",
    "\n",
    "accuracy_score(y_true=y_true, y_pred=y_pred)"
   ]
  },
  {
   "cell_type": "code",
   "execution_count": null,
   "id": "d8d43ca4-3195-4eb4-ac7e-86dbc61cc6d7",
   "metadata": {
    "tags": []
   },
   "outputs": [],
   "source": [
    "from sklearn.metrics import confusion_matrix, classification_report\n",
    "from sklearn.metrics import ConfusionMatrixDisplay\n",
    "\n",
    "y_true = df['class']\n",
    "y_pred = df['y_pred_label']\n",
    "\n",
    "print(classification_report(y_true, y_pred))"
   ]
  },
  {
   "cell_type": "code",
   "execution_count": null,
   "id": "258d049e",
   "metadata": {},
   "outputs": [],
   "source": [
    "print(df['class'].value_counts())\n",
    "print(df.y_pred_label.value_counts())"
   ]
  },
  {
   "cell_type": "code",
   "execution_count": null,
   "id": "98651b2b",
   "metadata": {},
   "outputs": [],
   "source": [
    "ConfusionMatrixDisplay.from_predictions(y_true, y_pred)"
   ]
  },
  {
   "cell_type": "markdown",
   "id": "3cbd55ae-cc81-423f-af8e-a04984dae777",
   "metadata": {},
   "source": [
    "## Hierarchical Clustering"
   ]
  },
  {
   "cell_type": "code",
   "execution_count": 19,
   "id": "55a02606-c3dd-4031-a188-34d58c12b942",
   "metadata": {
    "tags": []
   },
   "outputs": [],
   "source": [
    "from sklearn.cluster import AgglomerativeClustering"
   ]
  },
  {
   "cell_type": "code",
   "execution_count": null,
   "id": "d876e7e7",
   "metadata": {},
   "outputs": [],
   "source": []
  },
  {
   "cell_type": "code",
   "execution_count": null,
   "id": "e68682c7",
   "metadata": {},
   "outputs": [],
   "source": [
    "df.head()"
   ]
  },
  {
   "cell_type": "code",
   "execution_count": null,
   "id": "9472ea89",
   "metadata": {},
   "outputs": [],
   "source": [
    "import plotly.figure_factory as ff\n",
    "\n",
    "smaller_df = df.sample(frac=0.2)\n",
    "\n",
    "fig = ff.create_dendrogram(smaller_df[features], orientation='left', labels=smaller_df['class'].values)\n",
    "fig.show()"
   ]
  },
  {
   "cell_type": "code",
   "execution_count": null,
   "id": "32a1e44b",
   "metadata": {},
   "outputs": [],
   "source": []
  },
  {
   "cell_type": "code",
   "execution_count": 42,
   "id": "c1a5f158-9fe2-4e11-975a-0744820036d9",
   "metadata": {
    "tags": []
   },
   "outputs": [],
   "source": [
    "def plot_dendrogram(model, **kwargs):\n",
    "    # Create linkage matrix and then plot the dendrogram\n",
    "\n",
    "    # create the counts of samples under each node\n",
    "    counts = np.zeros(model.children_.shape[0])\n",
    "    n_samples = len(model.labels_)\n",
    "    for i, merge in enumerate(model.children_):\n",
    "        current_count = 0\n",
    "        for child_idx in merge:\n",
    "            if child_idx < n_samples:\n",
    "                current_count += 1  # leaf node\n",
    "            else:\n",
    "                current_count += counts[child_idx - n_samples]\n",
    "        counts[i] = current_count\n",
    "\n",
    "    linkage_matrix = np.column_stack(\n",
    "        [model.children_, model.distances_, counts]\n",
    "    ).astype(float)\n",
    "\n",
    "    # Plot the corresponding dendrogram"
   ]
  },
  {
   "cell_type": "code",
   "execution_count": null,
   "id": "821f6b38-1e3b-498a-8f8d-be72d21ecb31",
   "metadata": {
    "tags": []
   },
   "outputs": [],
   "source": [
    "# courtosy sklearn.org\n",
    "import numpy as np\n",
    "from matplotlib import pyplot as plt\n",
    "from scipy.cluster.hierarchy import dendrogram\n",
    "\n",
    "from sklearn.cluster import AgglomerativeClustering\n",
    "from sklearn.datasets import load_iris\n",
    "\n",
    "\n",
    "def plot_dendrogram(model, **kwargs):\n",
    "    # Create linkage matrix and then plot the dendrogram\n",
    "\n",
    "    # create the counts of samples under each node\n",
    "    counts = np.zeros(model.children_.shape[0])\n",
    "    n_samples = len(model.labels_)\n",
    "    for i, merge in enumerate(model.children_):\n",
    "        current_count = 0\n",
    "        for child_idx in merge:\n",
    "            if child_idx < n_samples:\n",
    "                current_count += 1  # leaf node\n",
    "            else:\n",
    "                current_count += counts[child_idx - n_samples]\n",
    "        counts[i] = current_count\n",
    "\n",
    "    linkage_matrix = np.column_stack(\n",
    "        [model.children_, model.distances_, counts]\n",
    "    ).astype(float)\n",
    "\n",
    "    # Plot the corresponding dendrogram\n",
    "    dendrogram(linkage_matrix, **kwargs)\n",
    "\n",
    "\n",
    "iris = load_iris()\n",
    "X = iris.data\n",
    "\n",
    "# setting distance_threshold=0 ensures we compute the full tree.\n",
    "model = AgglomerativeClustering(distance_threshold=0, n_clusters=None)\n",
    "\n",
    "model = model.fit(X)\n",
    "plt.title(\"Hierarchical Clustering Dendrogram\")\n",
    "# plot the top three levels of the dendrogram\n",
    "plot_dendrogram(model, truncate_mode=\"level\", p=3)\n",
    "plt.xlabel(\"Number of points in node (or index of point if no parenthesis).\")\n",
    "plt.show()"
   ]
  },
  {
   "cell_type": "code",
   "execution_count": 46,
   "id": "c456c858-f0ef-46ba-92fc-9aebc760703c",
   "metadata": {
    "tags": []
   },
   "outputs": [],
   "source": [
    "#  in sklearn datasets, the data is stored in 'data'.  the columns are stored in 'feature_names'\n",
    "\n",
    "\n",
    "# iris_df.describe()\n",
    "\n",
    "newmodel = AgglomerativeClustering(n_clusters=3)\n",
    "df['heirarchical_labels']=newmodel.fit_predict(X)\n"
   ]
  },
  {
   "cell_type": "code",
   "execution_count": null,
   "id": "25811372-99b0-4368-b067-8824725d9d33",
   "metadata": {
    "tags": []
   },
   "outputs": [],
   "source": [
    "# cols = ['sepal length (cm)', 'sepal width (cm)', 'petal length (cm)','petal width (cm)']\n",
    "sns.pairplot(df, vars=features,  hue='heirarchical_labels')"
   ]
  },
  {
   "cell_type": "code",
   "execution_count": null,
   "id": "1b7dcde5",
   "metadata": {},
   "outputs": [],
   "source": [
    "import matplotlib.pyplot as plt\n",
    "\n",
    "fig, axes = plt.subplots(nrows=1, ncols=2, figsize=(15, 5))\n",
    "axes[0].set_title('Y-True')\n",
    "sns.histplot(df, x='petal_width', hue='class', kde=True, ax=axes[0])\n",
    "\n",
    "axes[1].set_title('Y-Predicted')\n",
    "sns.histplot(df, x='petal_width', hue='heirarchical_labels', kde=True, ax=axes[1])\n",
    "\n"
   ]
  },
  {
   "cell_type": "code",
   "execution_count": null,
   "id": "18507e18",
   "metadata": {},
   "outputs": [],
   "source": [
    "cluster_to_class_map = {\n",
    "    1: 'Iris-setosa',\n",
    "    0: 'Iris-versicolor',\n",
    "    2: 'Iris-virginica'\n",
    "}\n",
    "\n",
    "df['heirarchical_labels_names'] = df.heirarchical_labels.map(cluster_to_class_map)\n",
    "df.head()"
   ]
  },
  {
   "cell_type": "code",
   "execution_count": null,
   "id": "2c27df41-ff8c-45f1-ad59-9341bc3e8552",
   "metadata": {
    "tags": []
   },
   "outputs": [],
   "source": [
    "confusion_matrix(df.heirarchical_labels_names, df['class'])"
   ]
  },
  {
   "cell_type": "code",
   "execution_count": null,
   "id": "8dc11aa3-ecd3-449b-9fbe-12828d4ce0f3",
   "metadata": {
    "tags": []
   },
   "outputs": [],
   "source": [
    "# performance is similar\n",
    "h_map_cluster_dict = dict(zip((1,0,2), (0,1,2) ))\n",
    "confusion_matrix(df.heirarchical_labels_names, df['class'])"
   ]
  },
  {
   "cell_type": "code",
   "execution_count": null,
   "id": "e5f6b050-aacc-491a-8dd2-1299f49f45ad",
   "metadata": {
    "tags": []
   },
   "outputs": [],
   "source": [
    "accuracy_score(df.heirarchical_labels_names, df['class'])"
   ]
  },
  {
   "cell_type": "markdown",
   "id": "2d27fbe1-b4fd-4bfb-9406-0c0fce3cde26",
   "metadata": {},
   "source": [
    "## DBSCAN "
   ]
  },
  {
   "cell_type": "code",
   "execution_count": null,
   "id": "03e37217",
   "metadata": {},
   "outputs": [],
   "source": []
  },
  {
   "cell_type": "code",
   "execution_count": null,
   "id": "5fa8301c-3363-456f-8a7a-4956132080d0",
   "metadata": {
    "tags": []
   },
   "outputs": [],
   "source": [
    "from sklearn import metrics\n",
    "from sklearn.cluster import DBSCAN\n",
    "\n",
    "db = DBSCAN().fit(df[features])\n",
    "labels = db.labels_\n",
    "\n",
    "# Number of clusters in labels, ignoring noise if present.\n",
    "n_clusters_ = len(set(labels)) - (1 if -1 in labels else 0)\n",
    "n_noise_ = list(labels).count(-1)\n",
    "\n",
    "print(\"Estimated number of clusters: %d\" % n_clusters_)\n",
    "print(\"Estimated number of noise points: %d\" % n_noise_)"
   ]
  },
  {
   "cell_type": "markdown",
   "id": "82bd4e44-8027-42f9-b1c2-ea2e5e4922e5",
   "metadata": {},
   "source": [
    "DBSCAN  doesn't do a great job, since the metrics of two of the species are spatially similar.  So, it finds 2 clusters rather than 3"
   ]
  },
  {
   "cell_type": "markdown",
   "id": "4cb8b2dd-06ca-41ea-be6a-6bdf8c502422",
   "metadata": {},
   "source": [
    "# Market Analysis with APRIORI:  Coffee Shop Orders\n"
   ]
  },
  {
   "cell_type": "code",
   "execution_count": 57,
   "id": "f695945e-2c8b-466d-bfce-1d5f60c335f4",
   "metadata": {
    "tags": []
   },
   "outputs": [],
   "source": [
    "# !pip install mlxtend\n",
    "# !pip install networkx\n",
    "import numpy as np \n",
    "import pandas as pd \n",
    "from mlxtend.frequent_patterns import apriori, association_rules "
   ]
  },
  {
   "cell_type": "code",
   "execution_count": null,
   "id": "2e046bf4-b9ed-4651-8691-6f1236042c2b",
   "metadata": {
    "tags": []
   },
   "outputs": [],
   "source": [
    "df = pd.read_csv('data/Coffe Shop Sales.xlsx - MBA_Master.csv')\n",
    "df.head()"
   ]
  },
  {
   "cell_type": "code",
   "execution_count": null,
   "id": "38bd259f",
   "metadata": {},
   "outputs": [],
   "source": [
    "print(df.item.value_counts().head())\n",
    "print(df.transaction_number.value_counts().head())"
   ]
  },
  {
   "cell_type": "code",
   "execution_count": null,
   "id": "eaed7760",
   "metadata": {},
   "outputs": [],
   "source": [
    "df.groupby('item')['amount'].sum().sort_values(ascending=False).head()"
   ]
  },
  {
   "cell_type": "code",
   "execution_count": null,
   "id": "fa642f65",
   "metadata": {},
   "outputs": [],
   "source": [
    "df.isnull().sum()\n",
    "df[df.duplicated()]"
   ]
  },
  {
   "cell_type": "code",
   "execution_count": null,
   "id": "752a820e-843e-4b8d-9d1c-55e7acf9f3f9",
   "metadata": {
    "tags": []
   },
   "outputs": [],
   "source": [
    "df_pivot = df.pivot_table(index='transaction_number',columns ='item',values = 'amount',aggfunc='sum').fillna(0)\n",
    "print(\"Dataset size: \", df_pivot.shape)\n",
    "df_pivot.head()"
   ]
  },
  {
   "cell_type": "code",
   "execution_count": null,
   "id": "bfec8043-b42f-4695-8aa2-de733039d0ee",
   "metadata": {
    "tags": []
   },
   "outputs": [],
   "source": [
    "# Show what the top transactions with the highest amounts look like transposed.\n",
    "df_pivot[df_pivot.select_dtypes(np.number)\n",
    "                 .apply(lambda x: 4 < x, axis=1)\n",
    "                 .any(axis=1)] \\\n",
    "        .T \\\n",
    "        .style \\\n",
    "        .background_gradient(axis=None) \\\n",
    "        .format('{:,.0f}')"
   ]
  },
  {
   "cell_type": "code",
   "execution_count": null,
   "id": "b46a1388-d3eb-49d2-a583-912f71028180",
   "metadata": {
    "tags": []
   },
   "outputs": [],
   "source": [
    "def encode(x):\n",
    "    if x <=0:\n",
    "        return 0\n",
    "    else:\n",
    "        return 1\n",
    "df_pivot = df_pivot.map(encode)\n",
    "df_pivot.head()"
   ]
  },
  {
   "cell_type": "code",
   "execution_count": null,
   "id": "9005e410-5c39-47f3-b035-0c31bd217d40",
   "metadata": {
    "tags": []
   },
   "outputs": [],
   "source": [
    "# our minimum support\n",
    "support = 0.01 \n",
    "frequent_items = apriori(df_pivot, min_support=support, use_colnames=True)\n",
    "frequent_items.sort_values('support', ascending=False)"
   ]
  },
  {
   "cell_type": "markdown",
   "id": "1ae7a95b-3979-4a65-8a18-cb5792c30658",
   "metadata": {},
   "source": [
    "\"Lift\" is the ratio of the target reponse given the antecedent relative to no condition. In conditional probability speak this is:\n",
    "$$\n",
    "L = \\frac{P_{A|B}}{P_B}\n",
    "$$\n",
    "High lift suggests that the products tend to purchased together"
   ]
  },
  {
   "cell_type": "code",
   "execution_count": null,
   "id": "ee8efc4b-b558-4179-b4a0-474938d535c5",
   "metadata": {
    "tags": []
   },
   "outputs": [],
   "source": [
    "metric = 'lift'\n",
    "min_treshold = 1\n",
    "\n",
    "rules = association_rules(frequent_items, metric=metric, min_threshold=min_treshold)[['antecedents','consequents','support','confidence','lift']]\n",
    "rules.reset_index(drop=True).sort_values('confidence',ascending=False, inplace = True)\n",
    "rules"
   ]
  },
  {
   "cell_type": "code",
   "execution_count": null,
   "id": "6b4cf1c3-6046-4aba-9c21-186242b9d570",
   "metadata": {
    "tags": []
   },
   "outputs": [],
   "source": [
    "# First we build a network from the association rule data\n",
    "\n",
    "import networkx as nx\n",
    "\n",
    "\n",
    "### THIS IS TOO CONFUSING FOR KIDS \n",
    "from_nodes = [list(x)[0] for x in rules.antecedents]\n",
    "to_nodes = [list(x)[0] for x in rules.consequents]\n",
    "cxns = zip(from_nodes, to_nodes)\n",
    "\n",
    "G = nx.MultiDiGraph()\n",
    "G.add_edges_from(cxns)\n"
   ]
  },
  {
   "cell_type": "code",
   "execution_count": null,
   "id": "5b72fe96-6007-4534-8db4-593f3be00618",
   "metadata": {
    "tags": []
   },
   "outputs": [],
   "source": [
    "plt.figure(1,figsize=(8,8))\n",
    "nx.draw_networkx(G, arrows=True,node_size=1000,font_size=10, node_color=\"tab:green\", font_color='blue', connectionstyle='arc3, rad=0.1')\n"
   ]
  },
  {
   "cell_type": "markdown",
   "id": "8ee46076-2b1f-45b7-80dc-c2477c7f791f",
   "metadata": {},
   "source": [
    "Here, we see that the arrows flow both ways.  This shouldn't be suprising since the data contains purchases that happen at the same time.  "
   ]
  },
  {
   "cell_type": "code",
   "execution_count": 73,
   "id": "a2354f1e-ef04-4081-baab-5f86145ab46f",
   "metadata": {
    "tags": []
   },
   "outputs": [],
   "source": [
    "rules_even = rules.iloc[::2, :].copy() #  keep only even rows\n",
    "\n",
    "rules_even.antecedents= [list(x)[0] for x in rules_even.antecedents]  # get rid of frozensets\n",
    "rules_even.consequents= [list(x)[0] for x in rules_even.consequents]  # get rid of frozensets\n",
    "rules_even['cxns'] = rules_even['antecedents']+'<->'+rules_even['consequents']\n",
    "rules_even= rules_even.sort_values('lift', ascending = False)\n"
   ]
  },
  {
   "cell_type": "code",
   "execution_count": null,
   "id": "0941bd8e-aa90-4abf-b3e0-c816dc05d777",
   "metadata": {
    "tags": []
   },
   "outputs": [],
   "source": [
    "sns.barplot(rules_even, y=\"cxns\", x=\"lift\").set_title('Coffee Shop Product Lift')"
   ]
  },
  {
   "cell_type": "markdown",
   "id": "f5964bd3-f76a-426d-b73f-d2251e288da8",
   "metadata": {},
   "source": [
    "Apparently, the sweet tooth wins out!  "
   ]
  }
 ],
 "metadata": {
  "kernelspec": {
   "display_name": "Python 3 (ipykernel)",
   "language": "python",
   "name": "python3"
  },
  "language_info": {
   "codemirror_mode": {
    "name": "ipython",
    "version": 3
   },
   "file_extension": ".py",
   "mimetype": "text/x-python",
   "name": "python",
   "nbconvert_exporter": "python",
   "pygments_lexer": "ipython3",
   "version": "3.12.4"
  }
 },
 "nbformat": 4,
 "nbformat_minor": 5
}
